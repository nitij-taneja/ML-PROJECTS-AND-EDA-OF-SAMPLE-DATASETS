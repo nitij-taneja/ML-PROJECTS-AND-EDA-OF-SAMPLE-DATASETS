{
 "cells": [
  {
   "cell_type": "code",
   "execution_count": 1,
   "id": "e037067f",
   "metadata": {},
   "outputs": [
    {
     "name": "stdout",
     "output_type": "stream",
     "text": [
      "Collecting pandas_visual_analysis\n",
      "  Downloading pandas_visual_analysis-0.0.4-py3-none-any.whl (34 kB)\n",
      "Requirement already satisfied: pandas>=1.1.0 in c:\\users\\nitij\\anaconda3\\lib\\site-packages (from pandas_visual_analysis) (1.5.3)\n",
      "Requirement already satisfied: plotly>=4.10.0 in c:\\users\\nitij\\anaconda3\\lib\\site-packages (from pandas_visual_analysis) (5.9.0)\n",
      "Collecting blinker>=1.4\n",
      "  Downloading blinker-1.6.2-py3-none-any.whl (13 kB)\n",
      "Requirement already satisfied: numpy>=1.19.1 in c:\\users\\nitij\\anaconda3\\lib\\site-packages (from pandas_visual_analysis) (1.23.5)\n",
      "Requirement already satisfied: ipywidgets>=7.5.1 in c:\\users\\nitij\\anaconda3\\lib\\site-packages (from pandas_visual_analysis) (7.6.5)\n",
      "Requirement already satisfied: setuptools>=49.2.0 in c:\\users\\nitij\\anaconda3\\lib\\site-packages (from pandas_visual_analysis) (65.6.3)\n",
      "Requirement already satisfied: ipykernel>=4.5.1 in c:\\users\\nitij\\anaconda3\\lib\\site-packages (from ipywidgets>=7.5.1->pandas_visual_analysis) (6.19.2)\n",
      "Requirement already satisfied: nbformat>=4.2.0 in c:\\users\\nitij\\anaconda3\\lib\\site-packages (from ipywidgets>=7.5.1->pandas_visual_analysis) (5.7.0)\n",
      "Requirement already satisfied: traitlets>=4.3.1 in c:\\users\\nitij\\anaconda3\\lib\\site-packages (from ipywidgets>=7.5.1->pandas_visual_analysis) (5.7.1)\n",
      "Requirement already satisfied: jupyterlab-widgets>=1.0.0 in c:\\users\\nitij\\anaconda3\\lib\\site-packages (from ipywidgets>=7.5.1->pandas_visual_analysis) (1.0.0)\n",
      "Requirement already satisfied: widgetsnbextension~=3.5.0 in c:\\users\\nitij\\anaconda3\\lib\\site-packages (from ipywidgets>=7.5.1->pandas_visual_analysis) (3.5.2)\n",
      "Requirement already satisfied: ipython>=4.0.0 in c:\\users\\nitij\\anaconda3\\lib\\site-packages (from ipywidgets>=7.5.1->pandas_visual_analysis) (8.10.0)\n",
      "Requirement already satisfied: ipython-genutils~=0.2.0 in c:\\users\\nitij\\anaconda3\\lib\\site-packages (from ipywidgets>=7.5.1->pandas_visual_analysis) (0.2.0)\n",
      "Requirement already satisfied: python-dateutil>=2.8.1 in c:\\users\\nitij\\appdata\\roaming\\python\\python310\\site-packages (from pandas>=1.1.0->pandas_visual_analysis) (2.8.2)\n",
      "Requirement already satisfied: pytz>=2020.1 in c:\\users\\nitij\\anaconda3\\lib\\site-packages (from pandas>=1.1.0->pandas_visual_analysis) (2022.7)\n",
      "Requirement already satisfied: tenacity>=6.2.0 in c:\\users\\nitij\\anaconda3\\lib\\site-packages (from plotly>=4.10.0->pandas_visual_analysis) (8.0.1)\n",
      "Requirement already satisfied: psutil in c:\\users\\nitij\\anaconda3\\lib\\site-packages (from ipykernel>=4.5.1->ipywidgets>=7.5.1->pandas_visual_analysis) (5.9.0)\n",
      "Requirement already satisfied: debugpy>=1.0 in c:\\users\\nitij\\anaconda3\\lib\\site-packages (from ipykernel>=4.5.1->ipywidgets>=7.5.1->pandas_visual_analysis) (1.5.1)\n",
      "Requirement already satisfied: nest-asyncio in c:\\users\\nitij\\anaconda3\\lib\\site-packages (from ipykernel>=4.5.1->ipywidgets>=7.5.1->pandas_visual_analysis) (1.5.6)\n",
      "Requirement already satisfied: tornado>=6.1 in c:\\users\\nitij\\anaconda3\\lib\\site-packages (from ipykernel>=4.5.1->ipywidgets>=7.5.1->pandas_visual_analysis) (6.1)\n",
      "Requirement already satisfied: matplotlib-inline>=0.1 in c:\\users\\nitij\\anaconda3\\lib\\site-packages (from ipykernel>=4.5.1->ipywidgets>=7.5.1->pandas_visual_analysis) (0.1.6)\n",
      "Requirement already satisfied: comm>=0.1.1 in c:\\users\\nitij\\anaconda3\\lib\\site-packages (from ipykernel>=4.5.1->ipywidgets>=7.5.1->pandas_visual_analysis) (0.1.2)\n",
      "Requirement already satisfied: pyzmq>=17 in c:\\users\\nitij\\anaconda3\\lib\\site-packages (from ipykernel>=4.5.1->ipywidgets>=7.5.1->pandas_visual_analysis) (23.2.0)\n",
      "Requirement already satisfied: jupyter-client>=6.1.12 in c:\\users\\nitij\\anaconda3\\lib\\site-packages (from ipykernel>=4.5.1->ipywidgets>=7.5.1->pandas_visual_analysis) (7.3.4)\n",
      "Requirement already satisfied: packaging in c:\\users\\nitij\\appdata\\roaming\\python\\python310\\site-packages (from ipykernel>=4.5.1->ipywidgets>=7.5.1->pandas_visual_analysis) (21.3)\n",
      "Requirement already satisfied: decorator in c:\\users\\nitij\\anaconda3\\lib\\site-packages (from ipython>=4.0.0->ipywidgets>=7.5.1->pandas_visual_analysis) (5.1.1)\n",
      "Requirement already satisfied: stack-data in c:\\users\\nitij\\anaconda3\\lib\\site-packages (from ipython>=4.0.0->ipywidgets>=7.5.1->pandas_visual_analysis) (0.2.0)\n",
      "Requirement already satisfied: pickleshare in c:\\users\\nitij\\anaconda3\\lib\\site-packages (from ipython>=4.0.0->ipywidgets>=7.5.1->pandas_visual_analysis) (0.7.5)\n",
      "Requirement already satisfied: backcall in c:\\users\\nitij\\anaconda3\\lib\\site-packages (from ipython>=4.0.0->ipywidgets>=7.5.1->pandas_visual_analysis) (0.2.0)\n",
      "Requirement already satisfied: prompt-toolkit<3.1.0,>=3.0.30 in c:\\users\\nitij\\anaconda3\\lib\\site-packages (from ipython>=4.0.0->ipywidgets>=7.5.1->pandas_visual_analysis) (3.0.36)\n",
      "Requirement already satisfied: pygments>=2.4.0 in c:\\users\\nitij\\anaconda3\\lib\\site-packages (from ipython>=4.0.0->ipywidgets>=7.5.1->pandas_visual_analysis) (2.11.2)\n",
      "Requirement already satisfied: colorama in c:\\users\\nitij\\anaconda3\\lib\\site-packages (from ipython>=4.0.0->ipywidgets>=7.5.1->pandas_visual_analysis) (0.4.6)\n",
      "Requirement already satisfied: jedi>=0.16 in c:\\users\\nitij\\anaconda3\\lib\\site-packages (from ipython>=4.0.0->ipywidgets>=7.5.1->pandas_visual_analysis) (0.18.1)\n",
      "Requirement already satisfied: jupyter-core in c:\\users\\nitij\\anaconda3\\lib\\site-packages (from nbformat>=4.2.0->ipywidgets>=7.5.1->pandas_visual_analysis) (5.2.0)\n",
      "Requirement already satisfied: jsonschema>=2.6 in c:\\users\\nitij\\anaconda3\\lib\\site-packages (from nbformat>=4.2.0->ipywidgets>=7.5.1->pandas_visual_analysis) (4.17.3)\n",
      "Requirement already satisfied: fastjsonschema in c:\\users\\nitij\\anaconda3\\lib\\site-packages (from nbformat>=4.2.0->ipywidgets>=7.5.1->pandas_visual_analysis) (2.16.2)\n",
      "Requirement already satisfied: six>=1.5 in c:\\users\\nitij\\appdata\\roaming\\python\\python310\\site-packages (from python-dateutil>=2.8.1->pandas>=1.1.0->pandas_visual_analysis) (1.16.0)\n",
      "Requirement already satisfied: notebook>=4.4.1 in c:\\users\\nitij\\anaconda3\\lib\\site-packages (from widgetsnbextension~=3.5.0->ipywidgets>=7.5.1->pandas_visual_analysis) (6.5.2)\n",
      "Requirement already satisfied: parso<0.9.0,>=0.8.0 in c:\\users\\nitij\\anaconda3\\lib\\site-packages (from jedi>=0.16->ipython>=4.0.0->ipywidgets>=7.5.1->pandas_visual_analysis) (0.8.3)\n",
      "Requirement already satisfied: attrs>=17.4.0 in c:\\users\\nitij\\anaconda3\\lib\\site-packages (from jsonschema>=2.6->nbformat>=4.2.0->ipywidgets>=7.5.1->pandas_visual_analysis) (22.1.0)\n",
      "Requirement already satisfied: pyrsistent!=0.17.0,!=0.17.1,!=0.17.2,>=0.14.0 in c:\\users\\nitij\\anaconda3\\lib\\site-packages (from jsonschema>=2.6->nbformat>=4.2.0->ipywidgets>=7.5.1->pandas_visual_analysis) (0.18.0)\n",
      "Requirement already satisfied: entrypoints in c:\\users\\nitij\\anaconda3\\lib\\site-packages (from jupyter-client>=6.1.12->ipykernel>=4.5.1->ipywidgets>=7.5.1->pandas_visual_analysis) (0.4)\n",
      "Requirement already satisfied: pywin32>=1.0 in c:\\users\\nitij\\anaconda3\\lib\\site-packages (from jupyter-core->nbformat>=4.2.0->ipywidgets>=7.5.1->pandas_visual_analysis) (305.1)\n",
      "Requirement already satisfied: platformdirs>=2.5 in c:\\users\\nitij\\anaconda3\\lib\\site-packages (from jupyter-core->nbformat>=4.2.0->ipywidgets>=7.5.1->pandas_visual_analysis) (2.5.2)\n",
      "Requirement already satisfied: jinja2 in c:\\users\\nitij\\anaconda3\\lib\\site-packages (from notebook>=4.4.1->widgetsnbextension~=3.5.0->ipywidgets>=7.5.1->pandas_visual_analysis) (3.1.2)\n",
      "Requirement already satisfied: nbclassic>=0.4.7 in c:\\users\\nitij\\anaconda3\\lib\\site-packages (from notebook>=4.4.1->widgetsnbextension~=3.5.0->ipywidgets>=7.5.1->pandas_visual_analysis) (0.5.2)\n",
      "Requirement already satisfied: Send2Trash>=1.8.0 in c:\\users\\nitij\\anaconda3\\lib\\site-packages (from notebook>=4.4.1->widgetsnbextension~=3.5.0->ipywidgets>=7.5.1->pandas_visual_analysis) (1.8.0)\n",
      "Requirement already satisfied: terminado>=0.8.3 in c:\\users\\nitij\\anaconda3\\lib\\site-packages (from notebook>=4.4.1->widgetsnbextension~=3.5.0->ipywidgets>=7.5.1->pandas_visual_analysis) (0.17.1)\n",
      "Requirement already satisfied: prometheus-client in c:\\users\\nitij\\anaconda3\\lib\\site-packages (from notebook>=4.4.1->widgetsnbextension~=3.5.0->ipywidgets>=7.5.1->pandas_visual_analysis) (0.14.1)\n",
      "Requirement already satisfied: argon2-cffi in c:\\users\\nitij\\anaconda3\\lib\\site-packages (from notebook>=4.4.1->widgetsnbextension~=3.5.0->ipywidgets>=7.5.1->pandas_visual_analysis) (21.3.0)\n",
      "Requirement already satisfied: nbconvert>=5 in c:\\users\\nitij\\anaconda3\\lib\\site-packages (from notebook>=4.4.1->widgetsnbextension~=3.5.0->ipywidgets>=7.5.1->pandas_visual_analysis) (6.5.4)\n",
      "Requirement already satisfied: wcwidth in c:\\users\\nitij\\anaconda3\\lib\\site-packages (from prompt-toolkit<3.1.0,>=3.0.30->ipython>=4.0.0->ipywidgets>=7.5.1->pandas_visual_analysis) (0.2.5)\n",
      "Requirement already satisfied: pyparsing!=3.0.5,>=2.0.2 in c:\\users\\nitij\\appdata\\roaming\\python\\python310\\site-packages (from packaging->ipykernel>=4.5.1->ipywidgets>=7.5.1->pandas_visual_analysis) (3.0.7)\n",
      "Requirement already satisfied: executing in c:\\users\\nitij\\anaconda3\\lib\\site-packages (from stack-data->ipython>=4.0.0->ipywidgets>=7.5.1->pandas_visual_analysis) (0.8.3)\n",
      "Requirement already satisfied: pure-eval in c:\\users\\nitij\\anaconda3\\lib\\site-packages (from stack-data->ipython>=4.0.0->ipywidgets>=7.5.1->pandas_visual_analysis) (0.2.2)\n",
      "Requirement already satisfied: asttokens in c:\\users\\nitij\\anaconda3\\lib\\site-packages (from stack-data->ipython>=4.0.0->ipywidgets>=7.5.1->pandas_visual_analysis) (2.0.5)\n",
      "Requirement already satisfied: notebook-shim>=0.1.0 in c:\\users\\nitij\\anaconda3\\lib\\site-packages (from nbclassic>=0.4.7->notebook>=4.4.1->widgetsnbextension~=3.5.0->ipywidgets>=7.5.1->pandas_visual_analysis) (0.2.2)\n",
      "Requirement already satisfied: jupyter-server>=1.8 in c:\\users\\nitij\\anaconda3\\lib\\site-packages (from nbclassic>=0.4.7->notebook>=4.4.1->widgetsnbextension~=3.5.0->ipywidgets>=7.5.1->pandas_visual_analysis) (1.23.4)\n",
      "Requirement already satisfied: pandocfilters>=1.4.1 in c:\\users\\nitij\\anaconda3\\lib\\site-packages (from nbconvert>=5->notebook>=4.4.1->widgetsnbextension~=3.5.0->ipywidgets>=7.5.1->pandas_visual_analysis) (1.5.0)\n",
      "Requirement already satisfied: defusedxml in c:\\users\\nitij\\anaconda3\\lib\\site-packages (from nbconvert>=5->notebook>=4.4.1->widgetsnbextension~=3.5.0->ipywidgets>=7.5.1->pandas_visual_analysis) (0.7.1)\n",
      "Requirement already satisfied: bleach in c:\\users\\nitij\\anaconda3\\lib\\site-packages (from nbconvert>=5->notebook>=4.4.1->widgetsnbextension~=3.5.0->ipywidgets>=7.5.1->pandas_visual_analysis) (4.1.0)\n",
      "Requirement already satisfied: lxml in c:\\users\\nitij\\anaconda3\\lib\\site-packages (from nbconvert>=5->notebook>=4.4.1->widgetsnbextension~=3.5.0->ipywidgets>=7.5.1->pandas_visual_analysis) (4.9.1)\n",
      "Requirement already satisfied: mistune<2,>=0.8.1 in c:\\users\\nitij\\anaconda3\\lib\\site-packages (from nbconvert>=5->notebook>=4.4.1->widgetsnbextension~=3.5.0->ipywidgets>=7.5.1->pandas_visual_analysis) (0.8.4)\n",
      "Requirement already satisfied: tinycss2 in c:\\users\\nitij\\anaconda3\\lib\\site-packages (from nbconvert>=5->notebook>=4.4.1->widgetsnbextension~=3.5.0->ipywidgets>=7.5.1->pandas_visual_analysis) (1.2.1)\n",
      "Requirement already satisfied: jupyterlab-pygments in c:\\users\\nitij\\anaconda3\\lib\\site-packages (from nbconvert>=5->notebook>=4.4.1->widgetsnbextension~=3.5.0->ipywidgets>=7.5.1->pandas_visual_analysis) (0.1.2)\n",
      "Requirement already satisfied: beautifulsoup4 in c:\\users\\nitij\\anaconda3\\lib\\site-packages (from nbconvert>=5->notebook>=4.4.1->widgetsnbextension~=3.5.0->ipywidgets>=7.5.1->pandas_visual_analysis) (4.11.1)\n",
      "Requirement already satisfied: MarkupSafe>=2.0 in c:\\users\\nitij\\anaconda3\\lib\\site-packages (from nbconvert>=5->notebook>=4.4.1->widgetsnbextension~=3.5.0->ipywidgets>=7.5.1->pandas_visual_analysis) (2.1.1)\n",
      "Requirement already satisfied: nbclient>=0.5.0 in c:\\users\\nitij\\anaconda3\\lib\\site-packages (from nbconvert>=5->notebook>=4.4.1->widgetsnbextension~=3.5.0->ipywidgets>=7.5.1->pandas_visual_analysis) (0.5.13)\n",
      "Requirement already satisfied: pywinpty>=1.1.0 in c:\\users\\nitij\\anaconda3\\lib\\site-packages (from terminado>=0.8.3->notebook>=4.4.1->widgetsnbextension~=3.5.0->ipywidgets>=7.5.1->pandas_visual_analysis) (2.0.10)\n",
      "Requirement already satisfied: argon2-cffi-bindings in c:\\users\\nitij\\anaconda3\\lib\\site-packages (from argon2-cffi->notebook>=4.4.1->widgetsnbextension~=3.5.0->ipywidgets>=7.5.1->pandas_visual_analysis) (21.2.0)\n",
      "Requirement already satisfied: anyio<4,>=3.1.0 in c:\\users\\nitij\\anaconda3\\lib\\site-packages (from jupyter-server>=1.8->nbclassic>=0.4.7->notebook>=4.4.1->widgetsnbextension~=3.5.0->ipywidgets>=7.5.1->pandas_visual_analysis) (3.5.0)\n",
      "Requirement already satisfied: websocket-client in c:\\users\\nitij\\anaconda3\\lib\\site-packages (from jupyter-server>=1.8->nbclassic>=0.4.7->notebook>=4.4.1->widgetsnbextension~=3.5.0->ipywidgets>=7.5.1->pandas_visual_analysis) (0.58.0)\n",
      "Requirement already satisfied: cffi>=1.0.1 in c:\\users\\nitij\\anaconda3\\lib\\site-packages (from argon2-cffi-bindings->argon2-cffi->notebook>=4.4.1->widgetsnbextension~=3.5.0->ipywidgets>=7.5.1->pandas_visual_analysis) (1.15.1)\n",
      "Requirement already satisfied: soupsieve>1.2 in c:\\users\\nitij\\anaconda3\\lib\\site-packages (from beautifulsoup4->nbconvert>=5->notebook>=4.4.1->widgetsnbextension~=3.5.0->ipywidgets>=7.5.1->pandas_visual_analysis) (2.3.2.post1)\n",
      "Requirement already satisfied: webencodings in c:\\users\\nitij\\anaconda3\\lib\\site-packages (from bleach->nbconvert>=5->notebook>=4.4.1->widgetsnbextension~=3.5.0->ipywidgets>=7.5.1->pandas_visual_analysis) (0.5.1)\n",
      "Requirement already satisfied: sniffio>=1.1 in c:\\users\\nitij\\anaconda3\\lib\\site-packages (from anyio<4,>=3.1.0->jupyter-server>=1.8->nbclassic>=0.4.7->notebook>=4.4.1->widgetsnbextension~=3.5.0->ipywidgets>=7.5.1->pandas_visual_analysis) (1.2.0)\n",
      "Requirement already satisfied: idna>=2.8 in c:\\users\\nitij\\anaconda3\\lib\\site-packages (from anyio<4,>=3.1.0->jupyter-server>=1.8->nbclassic>=0.4.7->notebook>=4.4.1->widgetsnbextension~=3.5.0->ipywidgets>=7.5.1->pandas_visual_analysis) (3.4)\n",
      "Requirement already satisfied: pycparser in c:\\users\\nitij\\anaconda3\\lib\\site-packages (from cffi>=1.0.1->argon2-cffi-bindings->argon2-cffi->notebook>=4.4.1->widgetsnbextension~=3.5.0->ipywidgets>=7.5.1->pandas_visual_analysis) (2.21)\n",
      "Installing collected packages: blinker, pandas_visual_analysis\n",
      "Successfully installed blinker-1.6.2 pandas_visual_analysis-0.0.4\n"
     ]
    }
   ],
   "source": [
    "!pip install pandas_visual_analysis"
   ]
  },
  {
   "cell_type": "code",
   "execution_count": 2,
   "id": "d84be349",
   "metadata": {},
   "outputs": [],
   "source": [
    "import pandas as pd\n",
    "df = pd.read_csv(\"netflix_titles_2021.csv\")"
   ]
  },
  {
   "cell_type": "code",
   "execution_count": 3,
   "id": "925c57b6",
   "metadata": {},
   "outputs": [
    {
     "data": {
      "text/html": [
       "<div>\n",
       "<style scoped>\n",
       "    .dataframe tbody tr th:only-of-type {\n",
       "        vertical-align: middle;\n",
       "    }\n",
       "\n",
       "    .dataframe tbody tr th {\n",
       "        vertical-align: top;\n",
       "    }\n",
       "\n",
       "    .dataframe thead th {\n",
       "        text-align: right;\n",
       "    }\n",
       "</style>\n",
       "<table border=\"1\" class=\"dataframe\">\n",
       "  <thead>\n",
       "    <tr style=\"text-align: right;\">\n",
       "      <th></th>\n",
       "      <th>show_id</th>\n",
       "      <th>type</th>\n",
       "      <th>title</th>\n",
       "      <th>director</th>\n",
       "      <th>cast</th>\n",
       "      <th>country</th>\n",
       "      <th>date_added</th>\n",
       "      <th>release_year</th>\n",
       "      <th>rating</th>\n",
       "      <th>duration</th>\n",
       "      <th>listed_in</th>\n",
       "      <th>description</th>\n",
       "    </tr>\n",
       "  </thead>\n",
       "  <tbody>\n",
       "    <tr>\n",
       "      <th>0</th>\n",
       "      <td>s1</td>\n",
       "      <td>Movie</td>\n",
       "      <td>Dick Johnson Is Dead</td>\n",
       "      <td>Kirsten Johnson</td>\n",
       "      <td>NaN</td>\n",
       "      <td>United States</td>\n",
       "      <td>September 25, 2021</td>\n",
       "      <td>2020</td>\n",
       "      <td>PG-13</td>\n",
       "      <td>90 min</td>\n",
       "      <td>Documentaries</td>\n",
       "      <td>As her father nears the end of his life, filmm...</td>\n",
       "    </tr>\n",
       "    <tr>\n",
       "      <th>1</th>\n",
       "      <td>s2</td>\n",
       "      <td>TV Show</td>\n",
       "      <td>Blood &amp; Water</td>\n",
       "      <td>NaN</td>\n",
       "      <td>Ama Qamata, Khosi Ngema, Gail Mabalane, Thaban...</td>\n",
       "      <td>South Africa</td>\n",
       "      <td>September 24, 2021</td>\n",
       "      <td>2021</td>\n",
       "      <td>TV-MA</td>\n",
       "      <td>2 Seasons</td>\n",
       "      <td>International TV Shows, TV Dramas, TV Mysteries</td>\n",
       "      <td>After crossing paths at a party, a Cape Town t...</td>\n",
       "    </tr>\n",
       "    <tr>\n",
       "      <th>2</th>\n",
       "      <td>s3</td>\n",
       "      <td>TV Show</td>\n",
       "      <td>Ganglands</td>\n",
       "      <td>Julien Leclercq</td>\n",
       "      <td>Sami Bouajila, Tracy Gotoas, Samuel Jouy, Nabi...</td>\n",
       "      <td>NaN</td>\n",
       "      <td>September 24, 2021</td>\n",
       "      <td>2021</td>\n",
       "      <td>TV-MA</td>\n",
       "      <td>1 Season</td>\n",
       "      <td>Crime TV Shows, International TV Shows, TV Act...</td>\n",
       "      <td>To protect his family from a powerful drug lor...</td>\n",
       "    </tr>\n",
       "    <tr>\n",
       "      <th>3</th>\n",
       "      <td>s4</td>\n",
       "      <td>TV Show</td>\n",
       "      <td>Jailbirds New Orleans</td>\n",
       "      <td>NaN</td>\n",
       "      <td>NaN</td>\n",
       "      <td>NaN</td>\n",
       "      <td>September 24, 2021</td>\n",
       "      <td>2021</td>\n",
       "      <td>TV-MA</td>\n",
       "      <td>1 Season</td>\n",
       "      <td>Docuseries, Reality TV</td>\n",
       "      <td>Feuds, flirtations and toilet talk go down amo...</td>\n",
       "    </tr>\n",
       "    <tr>\n",
       "      <th>4</th>\n",
       "      <td>s5</td>\n",
       "      <td>TV Show</td>\n",
       "      <td>Kota Factory</td>\n",
       "      <td>NaN</td>\n",
       "      <td>Mayur More, Jitendra Kumar, Ranjan Raj, Alam K...</td>\n",
       "      <td>India</td>\n",
       "      <td>September 24, 2021</td>\n",
       "      <td>2021</td>\n",
       "      <td>TV-MA</td>\n",
       "      <td>2 Seasons</td>\n",
       "      <td>International TV Shows, Romantic TV Shows, TV ...</td>\n",
       "      <td>In a city of coaching centers known to train I...</td>\n",
       "    </tr>\n",
       "  </tbody>\n",
       "</table>\n",
       "</div>"
      ],
      "text/plain": [
       "  show_id     type                  title         director  \\\n",
       "0      s1    Movie   Dick Johnson Is Dead  Kirsten Johnson   \n",
       "1      s2  TV Show          Blood & Water              NaN   \n",
       "2      s3  TV Show              Ganglands  Julien Leclercq   \n",
       "3      s4  TV Show  Jailbirds New Orleans              NaN   \n",
       "4      s5  TV Show           Kota Factory              NaN   \n",
       "\n",
       "                                                cast        country  \\\n",
       "0                                                NaN  United States   \n",
       "1  Ama Qamata, Khosi Ngema, Gail Mabalane, Thaban...   South Africa   \n",
       "2  Sami Bouajila, Tracy Gotoas, Samuel Jouy, Nabi...            NaN   \n",
       "3                                                NaN            NaN   \n",
       "4  Mayur More, Jitendra Kumar, Ranjan Raj, Alam K...          India   \n",
       "\n",
       "           date_added  release_year rating   duration  \\\n",
       "0  September 25, 2021          2020  PG-13     90 min   \n",
       "1  September 24, 2021          2021  TV-MA  2 Seasons   \n",
       "2  September 24, 2021          2021  TV-MA   1 Season   \n",
       "3  September 24, 2021          2021  TV-MA   1 Season   \n",
       "4  September 24, 2021          2021  TV-MA  2 Seasons   \n",
       "\n",
       "                                           listed_in  \\\n",
       "0                                      Documentaries   \n",
       "1    International TV Shows, TV Dramas, TV Mysteries   \n",
       "2  Crime TV Shows, International TV Shows, TV Act...   \n",
       "3                             Docuseries, Reality TV   \n",
       "4  International TV Shows, Romantic TV Shows, TV ...   \n",
       "\n",
       "                                         description  \n",
       "0  As her father nears the end of his life, filmm...  \n",
       "1  After crossing paths at a party, a Cape Town t...  \n",
       "2  To protect his family from a powerful drug lor...  \n",
       "3  Feuds, flirtations and toilet talk go down amo...  \n",
       "4  In a city of coaching centers known to train I...  "
      ]
     },
     "execution_count": 3,
     "metadata": {},
     "output_type": "execute_result"
    }
   ],
   "source": [
    "df.head()"
   ]
  },
  {
   "cell_type": "code",
   "execution_count": 4,
   "id": "7ab32a1e",
   "metadata": {},
   "outputs": [
    {
     "data": {
      "text/plain": [
       "(8807, 12)"
      ]
     },
     "execution_count": 4,
     "metadata": {},
     "output_type": "execute_result"
    }
   ],
   "source": [
    "df.shape"
   ]
  },
  {
   "cell_type": "code",
   "execution_count": 5,
   "id": "251e6d3f",
   "metadata": {},
   "outputs": [
    {
     "data": {
      "text/plain": [
       "show_id            0\n",
       "type               0\n",
       "title              0\n",
       "director        2634\n",
       "cast             825\n",
       "country          831\n",
       "date_added        10\n",
       "release_year       0\n",
       "rating             4\n",
       "duration           3\n",
       "listed_in          0\n",
       "description        0\n",
       "dtype: int64"
      ]
     },
     "execution_count": 5,
     "metadata": {},
     "output_type": "execute_result"
    }
   ],
   "source": [
    "df.isnull().sum()"
   ]
  },
  {
   "cell_type": "code",
   "execution_count": 13,
   "id": "4c5620be",
   "metadata": {},
   "outputs": [],
   "source": [
    "from pandas_visual_analysis import VisualAnalysis\n"
   ]
  },
  {
   "cell_type": "code",
   "execution_count": 6,
   "id": "bb8cb25b",
   "metadata": {},
   "outputs": [],
   "source": [
    "df1 = df.drop(['director','cast'],axis=1)"
   ]
  },
  {
   "cell_type": "code",
   "execution_count": 7,
   "id": "fbf27746",
   "metadata": {},
   "outputs": [],
   "source": [
    "df1.fillna({\"country\":'Missing',\"date_added\":\"Missing\",\"rating\":\"Missing\",'duration':'Missing'},inplace=True)"
   ]
  },
  {
   "cell_type": "code",
   "execution_count": 8,
   "id": "632c8fb9",
   "metadata": {},
   "outputs": [
    {
     "data": {
      "text/plain": [
       "show_id         0\n",
       "type            0\n",
       "title           0\n",
       "country         0\n",
       "date_added      0\n",
       "release_year    0\n",
       "rating          0\n",
       "duration        0\n",
       "listed_in       0\n",
       "description     0\n",
       "dtype: int64"
      ]
     },
     "execution_count": 8,
     "metadata": {},
     "output_type": "execute_result"
    }
   ],
   "source": [
    "df1.isnull().sum()"
   ]
  },
  {
   "cell_type": "code",
   "execution_count": 9,
   "id": "98907a41",
   "metadata": {},
   "outputs": [
    {
     "data": {
      "text/html": [
       "<div>\n",
       "<style scoped>\n",
       "    .dataframe tbody tr th:only-of-type {\n",
       "        vertical-align: middle;\n",
       "    }\n",
       "\n",
       "    .dataframe tbody tr th {\n",
       "        vertical-align: top;\n",
       "    }\n",
       "\n",
       "    .dataframe thead th {\n",
       "        text-align: right;\n",
       "    }\n",
       "</style>\n",
       "<table border=\"1\" class=\"dataframe\">\n",
       "  <thead>\n",
       "    <tr style=\"text-align: right;\">\n",
       "      <th></th>\n",
       "      <th>show_id</th>\n",
       "      <th>type</th>\n",
       "      <th>title</th>\n",
       "      <th>country</th>\n",
       "      <th>date_added</th>\n",
       "      <th>release_year</th>\n",
       "      <th>rating</th>\n",
       "      <th>duration</th>\n",
       "      <th>listed_in</th>\n",
       "      <th>description</th>\n",
       "    </tr>\n",
       "  </thead>\n",
       "  <tbody>\n",
       "    <tr>\n",
       "      <th>0</th>\n",
       "      <td>s1</td>\n",
       "      <td>Movie</td>\n",
       "      <td>Dick Johnson Is Dead</td>\n",
       "      <td>United States</td>\n",
       "      <td>September 25, 2021</td>\n",
       "      <td>2020</td>\n",
       "      <td>PG-13</td>\n",
       "      <td>90 min</td>\n",
       "      <td>Documentaries</td>\n",
       "      <td>As her father nears the end of his life, filmm...</td>\n",
       "    </tr>\n",
       "    <tr>\n",
       "      <th>1</th>\n",
       "      <td>s2</td>\n",
       "      <td>TV Show</td>\n",
       "      <td>Blood &amp; Water</td>\n",
       "      <td>South Africa</td>\n",
       "      <td>September 24, 2021</td>\n",
       "      <td>2021</td>\n",
       "      <td>TV-MA</td>\n",
       "      <td>2 Seasons</td>\n",
       "      <td>International TV Shows, TV Dramas, TV Mysteries</td>\n",
       "      <td>After crossing paths at a party, a Cape Town t...</td>\n",
       "    </tr>\n",
       "    <tr>\n",
       "      <th>2</th>\n",
       "      <td>s3</td>\n",
       "      <td>TV Show</td>\n",
       "      <td>Ganglands</td>\n",
       "      <td>Missing</td>\n",
       "      <td>September 24, 2021</td>\n",
       "      <td>2021</td>\n",
       "      <td>TV-MA</td>\n",
       "      <td>1 Season</td>\n",
       "      <td>Crime TV Shows, International TV Shows, TV Act...</td>\n",
       "      <td>To protect his family from a powerful drug lor...</td>\n",
       "    </tr>\n",
       "    <tr>\n",
       "      <th>3</th>\n",
       "      <td>s4</td>\n",
       "      <td>TV Show</td>\n",
       "      <td>Jailbirds New Orleans</td>\n",
       "      <td>Missing</td>\n",
       "      <td>September 24, 2021</td>\n",
       "      <td>2021</td>\n",
       "      <td>TV-MA</td>\n",
       "      <td>1 Season</td>\n",
       "      <td>Docuseries, Reality TV</td>\n",
       "      <td>Feuds, flirtations and toilet talk go down amo...</td>\n",
       "    </tr>\n",
       "    <tr>\n",
       "      <th>4</th>\n",
       "      <td>s5</td>\n",
       "      <td>TV Show</td>\n",
       "      <td>Kota Factory</td>\n",
       "      <td>India</td>\n",
       "      <td>September 24, 2021</td>\n",
       "      <td>2021</td>\n",
       "      <td>TV-MA</td>\n",
       "      <td>2 Seasons</td>\n",
       "      <td>International TV Shows, Romantic TV Shows, TV ...</td>\n",
       "      <td>In a city of coaching centers known to train I...</td>\n",
       "    </tr>\n",
       "  </tbody>\n",
       "</table>\n",
       "</div>"
      ],
      "text/plain": [
       "  show_id     type                  title        country          date_added  \\\n",
       "0      s1    Movie   Dick Johnson Is Dead  United States  September 25, 2021   \n",
       "1      s2  TV Show          Blood & Water   South Africa  September 24, 2021   \n",
       "2      s3  TV Show              Ganglands        Missing  September 24, 2021   \n",
       "3      s4  TV Show  Jailbirds New Orleans        Missing  September 24, 2021   \n",
       "4      s5  TV Show           Kota Factory          India  September 24, 2021   \n",
       "\n",
       "   release_year rating   duration  \\\n",
       "0          2020  PG-13     90 min   \n",
       "1          2021  TV-MA  2 Seasons   \n",
       "2          2021  TV-MA   1 Season   \n",
       "3          2021  TV-MA   1 Season   \n",
       "4          2021  TV-MA  2 Seasons   \n",
       "\n",
       "                                           listed_in  \\\n",
       "0                                      Documentaries   \n",
       "1    International TV Shows, TV Dramas, TV Mysteries   \n",
       "2  Crime TV Shows, International TV Shows, TV Act...   \n",
       "3                             Docuseries, Reality TV   \n",
       "4  International TV Shows, Romantic TV Shows, TV ...   \n",
       "\n",
       "                                         description  \n",
       "0  As her father nears the end of his life, filmm...  \n",
       "1  After crossing paths at a party, a Cape Town t...  \n",
       "2  To protect his family from a powerful drug lor...  \n",
       "3  Feuds, flirtations and toilet talk go down amo...  \n",
       "4  In a city of coaching centers known to train I...  "
      ]
     },
     "execution_count": 9,
     "metadata": {},
     "output_type": "execute_result"
    }
   ],
   "source": [
    "df1.head()"
   ]
  },
  {
   "cell_type": "code",
   "execution_count": 32,
   "id": "59cbdb1c",
   "metadata": {},
   "outputs": [
    {
     "data": {
      "application/vnd.jupyter.widget-view+json": {
       "model_id": "5065e8f2fadb4ab894830257e2db9323",
       "version_major": 2,
       "version_minor": 0
      },
      "text/plain": [
       "VBox(children=(ToggleButtons(_dom_classes=('layout-bd6410f9b4b94e579af090d048a05624',), description='Selection…"
      ]
     },
     "metadata": {},
     "output_type": "display_data"
    }
   ],
   "source": [
    "VisualAnalysis(df1)"
   ]
  },
  {
   "cell_type": "code",
   "execution_count": 28,
   "id": "450f5e27",
   "metadata": {},
   "outputs": [
    {
     "data": {
      "text/plain": [
       "Text(0.5, 1.0, 'Year Wise Releases')"
      ]
     },
     "execution_count": 28,
     "metadata": {},
     "output_type": "execute_result"
    },
    {
     "data": {
      "image/png": "[encoded data removed]",
      "text/plain": [
       "<Figure size 1000x700 with 1 Axes>"
      ]
     },
     "metadata": {},
     "output_type": "display_data"
    }
   ],
   "source": [
    "import matplotlib.pyplot as plt\n",
    "plt.figure(figsize=(13,10))\n",
    "g = df[df['release_year'] > 2010].release_year.value_counts().plot.bar(figsize=(10, 7))\n",
    "g.set_xlabel(\"Release Year\")\n",
    "g.set_ylabel(\"No of Released Movies\")\n",
    "g.set_title(\"Year Wise Releases\")"
   ]
  },
  {
   "cell_type": "code",
   "execution_count": 30,
   "id": "d54b2e8e",
   "metadata": {},
   "outputs": [
    {
     "data": {
      "text/plain": [
       "Text(0.5, 1.0, 'Ratings Wise Counts')"
      ]
     },
     "execution_count": 30,
     "metadata": {},
     "output_type": "execute_result"
    },
    {
     "data": {
      "image/png": "[encoded data removed]",
      "text/plain": [
       "<Figure size 1800x700 with 1 Axes>"
      ]
     },
     "metadata": {},
     "output_type": "display_data"
    }
   ],
   "source": [
    "import seaborn as sns\n",
    "plt.figure(figsize=(18,7))\n",
    "g = sns.countplot(x='rating', data=df, palette='Blues_r', order=df['rating'].value_counts().index[0:15])\n",
    "g.set_xlabel(\"Ratings\")\n",
    "g.set_ylabel(\"No of Movies\")\n",
    "g.set_title(\"Ratings Wise Counts\")"
   ]
  },
  {
   "cell_type": "code",
   "execution_count": 31,
   "id": "59e58800",
   "metadata": {},
   "outputs": [
    {
     "data": {
      "text/html": [
       "<div>\n",
       "<style scoped>\n",
       "    .dataframe tbody tr th:only-of-type {\n",
       "        vertical-align: middle;\n",
       "    }\n",
       "\n",
       "    .dataframe tbody tr th {\n",
       "        vertical-align: top;\n",
       "    }\n",
       "\n",
       "    .dataframe thead th {\n",
       "        text-align: right;\n",
       "    }\n",
       "</style>\n",
       "<table border=\"1\" class=\"dataframe\">\n",
       "  <thead>\n",
       "    <tr style=\"text-align: right;\">\n",
       "      <th></th>\n",
       "      <th>show_id</th>\n",
       "      <th>type</th>\n",
       "      <th>title</th>\n",
       "      <th>director</th>\n",
       "      <th>cast</th>\n",
       "      <th>country</th>\n",
       "      <th>date_added</th>\n",
       "      <th>release_year</th>\n",
       "      <th>rating</th>\n",
       "      <th>duration</th>\n",
       "      <th>listed_in</th>\n",
       "      <th>description</th>\n",
       "    </tr>\n",
       "  </thead>\n",
       "  <tbody>\n",
       "    <tr>\n",
       "      <th>4250</th>\n",
       "      <td>s4251</td>\n",
       "      <td>TV Show</td>\n",
       "      <td>Pioneers: First Women Filmmakers*</td>\n",
       "      <td>NaN</td>\n",
       "      <td>NaN</td>\n",
       "      <td>NaN</td>\n",
       "      <td>December 30, 2018</td>\n",
       "      <td>1925</td>\n",
       "      <td>TV-14</td>\n",
       "      <td>1 Season</td>\n",
       "      <td>TV Shows</td>\n",
       "      <td>This collection restores films from women who ...</td>\n",
       "    </tr>\n",
       "    <tr>\n",
       "      <th>1331</th>\n",
       "      <td>s1332</td>\n",
       "      <td>TV Show</td>\n",
       "      <td>Five Came Back: The Reference Films</td>\n",
       "      <td>NaN</td>\n",
       "      <td>NaN</td>\n",
       "      <td>United States</td>\n",
       "      <td>February 9, 2021</td>\n",
       "      <td>1945</td>\n",
       "      <td>TV-MA</td>\n",
       "      <td>1 Season</td>\n",
       "      <td>TV Shows</td>\n",
       "      <td>This collection includes 12 World War II-era p...</td>\n",
       "    </tr>\n",
       "    <tr>\n",
       "      <th>7743</th>\n",
       "      <td>s7744</td>\n",
       "      <td>TV Show</td>\n",
       "      <td>Pioneers of African-American Cinema</td>\n",
       "      <td>Oscar Micheaux, Spencer Williams, Richard E. N...</td>\n",
       "      <td>NaN</td>\n",
       "      <td>United States</td>\n",
       "      <td>February 1, 2017</td>\n",
       "      <td>1946</td>\n",
       "      <td>TV-14</td>\n",
       "      <td>1 Season</td>\n",
       "      <td>TV Shows</td>\n",
       "      <td>This newly preserved collection features more ...</td>\n",
       "    </tr>\n",
       "    <tr>\n",
       "      <th>8541</th>\n",
       "      <td>s8542</td>\n",
       "      <td>TV Show</td>\n",
       "      <td>The Twilight Zone (Original Series)</td>\n",
       "      <td>NaN</td>\n",
       "      <td>Rod Serling</td>\n",
       "      <td>United States</td>\n",
       "      <td>July 1, 2017</td>\n",
       "      <td>1963</td>\n",
       "      <td>TV-14</td>\n",
       "      <td>4 Seasons</td>\n",
       "      <td>Classic &amp; Cult TV, TV Sci-Fi &amp; Fantasy</td>\n",
       "      <td>Hosted by creator Rod Serling, this groundbrea...</td>\n",
       "    </tr>\n",
       "    <tr>\n",
       "      <th>8189</th>\n",
       "      <td>s8190</td>\n",
       "      <td>TV Show</td>\n",
       "      <td>The Andy Griffith Show</td>\n",
       "      <td>NaN</td>\n",
       "      <td>Andy Griffith, Ron Howard, Don Knotts, Frances...</td>\n",
       "      <td>United States</td>\n",
       "      <td>July 1, 2017</td>\n",
       "      <td>1967</td>\n",
       "      <td>TV-G</td>\n",
       "      <td>8 Seasons</td>\n",
       "      <td>Classic &amp; Cult TV, TV Comedies</td>\n",
       "      <td>Homespun humor and easygoing Sheriff Andy Tayl...</td>\n",
       "    </tr>\n",
       "  </tbody>\n",
       "</table>\n",
       "</div>"
      ],
      "text/plain": [
       "     show_id     type                                title  \\\n",
       "4250   s4251  TV Show    Pioneers: First Women Filmmakers*   \n",
       "1331   s1332  TV Show  Five Came Back: The Reference Films   \n",
       "7743   s7744  TV Show  Pioneers of African-American Cinema   \n",
       "8541   s8542  TV Show  The Twilight Zone (Original Series)   \n",
       "8189   s8190  TV Show               The Andy Griffith Show   \n",
       "\n",
       "                                               director  \\\n",
       "4250                                                NaN   \n",
       "1331                                                NaN   \n",
       "7743  Oscar Micheaux, Spencer Williams, Richard E. N...   \n",
       "8541                                                NaN   \n",
       "8189                                                NaN   \n",
       "\n",
       "                                                   cast        country  \\\n",
       "4250                                                NaN            NaN   \n",
       "1331                                                NaN  United States   \n",
       "7743                                                NaN  United States   \n",
       "8541                                        Rod Serling  United States   \n",
       "8189  Andy Griffith, Ron Howard, Don Knotts, Frances...  United States   \n",
       "\n",
       "             date_added  release_year rating   duration  \\\n",
       "4250  December 30, 2018          1925  TV-14   1 Season   \n",
       "1331   February 9, 2021          1945  TV-MA   1 Season   \n",
       "7743   February 1, 2017          1946  TV-14   1 Season   \n",
       "8541       July 1, 2017          1963  TV-14  4 Seasons   \n",
       "8189       July 1, 2017          1967   TV-G  8 Seasons   \n",
       "\n",
       "                                   listed_in  \\\n",
       "4250                                TV Shows   \n",
       "1331                                TV Shows   \n",
       "7743                                TV Shows   \n",
       "8541  Classic & Cult TV, TV Sci-Fi & Fantasy   \n",
       "8189          Classic & Cult TV, TV Comedies   \n",
       "\n",
       "                                            description  \n",
       "4250  This collection restores films from women who ...  \n",
       "1331  This collection includes 12 World War II-era p...  \n",
       "7743  This newly preserved collection features more ...  \n",
       "8541  Hosted by creator Rod Serling, this groundbrea...  \n",
       "8189  Homespun humor and easygoing Sheriff Andy Tayl...  "
      ]
     },
     "execution_count": 31,
     "metadata": {},
     "output_type": "execute_result"
    }
   ],
   "source": [
    "df[df['type'] == 'TV Show'].sort_values('release_year')[0:5]"
   ]
  },
  {
   "cell_type": "markdown",
   "id": "96963e8c",
   "metadata": {},
   "source": [
    "# OBSERVATIONS"
   ]
  },
  {
   "cell_type": "markdown",
   "id": "6e03d79c",
   "metadata": {},
   "source": [
    "1) Netflix stress more over creation of movies instead of TV shows.\n",
    "\n",
    "2) Around 1200 Netflix shows are from United States that counts the highest from all countries and India comes next to United States with more than 900 shows.\n",
    "\n",
    "3) More than 1000 movies and shows were released in 2018 and year 2011 counts the lowest with less than 200 and one more thing can be observed that number of releases each coming year are less after marking 2018 with highest releases.\n",
    "\n",
    "4) TV-MA and TV-14 are most ratings given by to movies and shows, with over 3000 to TV-MA.\n",
    "\n",
    "5) The ‘Pioneers: First Women Filmmakers’ was the oldest show on Netflix which was released in 1925. It was added in late 2018 on Netflix\n"
   ]
  },
  {
   "cell_type": "code",
   "execution_count": null,
   "id": "9973d98a",
   "metadata": {},
   "outputs": [],
   "source": []
  },
  {
   "cell_type": "code",
   "execution_count": null,
   "id": "2520b5b8",
   "metadata": {},
   "outputs": [],
   "source": []
  }
 ],
 "metadata": {
  "kernelspec": {
   "display_name": "Python 3 (ipykernel)",
   "language": "python",
   "name": "python3"
  },
  "language_info": {
   "codemirror_mode": {
    "name": "ipython",
    "version": 3
   },
   "file_extension": ".py",
   "mimetype": "text/x-python",
   "name": "python",
   "nbconvert_exporter": "python",
   "pygments_lexer": "ipython3",
   "version": "3.10.9"
  }
 },
 "nbformat": 4,
 "nbformat_minor": 5
}
