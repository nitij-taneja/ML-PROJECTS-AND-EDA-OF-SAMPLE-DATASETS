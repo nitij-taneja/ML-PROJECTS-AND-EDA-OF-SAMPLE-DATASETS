{
 "cells": [
  {
   "cell_type": "code",
   "execution_count": 10,
   "id": "6af1aa49",
   "metadata": {},
   "outputs": [
    {
     "name": "stdout",
     "output_type": "stream",
     "text": [
      "Collecting dtale\n",
      "  Downloading dtale-3.3.0-py2.py3-none-any.whl (14.2 MB)\n",
      "     --------------------------------------- 14.2/14.2 MB 10.2 MB/s eta 0:00:00\n",
      "Requirement already satisfied: scikit-learn in c:\\users\\nitij\\anaconda3\\lib\\site-packages (from dtale) (1.2.1)\n",
      "Requirement already satisfied: pandas in c:\\users\\nitij\\anaconda3\\lib\\site-packages (from dtale) (1.5.3)\n",
      "Collecting strsimpy\n",
      "  Downloading strsimpy-0.2.1-py3-none-any.whl (45 kB)\n",
      "     ---------------------------------------- 45.9/45.9 kB ? eta 0:00:00\n",
      "Requirement already satisfied: itsdangerous in c:\\users\\nitij\\anaconda3\\lib\\site-packages (from dtale) (2.0.1)\n",
      "Requirement already satisfied: scipy in c:\\users\\nitij\\anaconda3\\lib\\site-packages (from dtale) (1.10.0)\n",
      "Collecting Flask-Compress\n",
      "  Downloading Flask_Compress-1.13-py3-none-any.whl (7.9 kB)\n",
      "Requirement already satisfied: cycler in c:\\users\\nitij\\appdata\\roaming\\python\\python310\\site-packages (from dtale) (0.11.0)\n",
      "Requirement already satisfied: beautifulsoup4 in c:\\users\\nitij\\anaconda3\\lib\\site-packages (from dtale) (4.11.1)\n",
      "Collecting missingno\n",
      "  Downloading missingno-0.5.2-py3-none-any.whl (8.7 kB)\n",
      "Requirement already satisfied: numpy in c:\\users\\nitij\\anaconda3\\lib\\site-packages (from dtale) (1.23.5)\n",
      "Requirement already satisfied: requests in c:\\users\\nitij\\anaconda3\\lib\\site-packages (from dtale) (2.28.1)\n",
      "Requirement already satisfied: werkzeug<2.3 in c:\\users\\nitij\\anaconda3\\lib\\site-packages (from dtale) (2.2.2)\n",
      "Collecting squarify\n",
      "  Downloading squarify-0.4.3-py3-none-any.whl (4.3 kB)\n",
      "Requirement already satisfied: et-xmlfile in c:\\users\\nitij\\anaconda3\\lib\\site-packages (from dtale) (1.1.0)\n",
      "Collecting xlrd\n",
      "  Downloading xlrd-2.0.1-py2.py3-none-any.whl (96 kB)\n",
      "     ---------------------------------------- 96.5/96.5 kB ? eta 0:00:00\n",
      "Requirement already satisfied: certifi in c:\\users\\nitij\\anaconda3\\lib\\site-packages (from dtale) (2022.12.7)\n",
      "Collecting dash-bootstrap-components<=1.3.1\n",
      "  Downloading dash_bootstrap_components-1.3.1-py3-none-any.whl (219 kB)\n",
      "     ------------------------------------- 219.7/219.7 kB 13.1 MB/s eta 0:00:00\n",
      "Requirement already satisfied: matplotlib in c:\\users\\nitij\\appdata\\roaming\\python\\python310\\site-packages (from dtale) (3.5.1)\n",
      "Collecting dash\n",
      "  Downloading dash-2.11.1-py3-none-any.whl (10.4 MB)\n",
      "     ---------------------------------------- 10.4/10.4 MB 9.6 MB/s eta 0:00:00\n",
      "Requirement already satisfied: plotly in c:\\users\\nitij\\anaconda3\\lib\\site-packages (from dtale) (5.9.0)\n",
      "Collecting dash-daq\n",
      "  Downloading dash_daq-0.5.0.tar.gz (642 kB)\n",
      "     ------------------------------------- 642.7/642.7 kB 10.2 MB/s eta 0:00:00\n",
      "  Preparing metadata (setup.py): started\n",
      "  Preparing metadata (setup.py): finished with status 'done'\n",
      "Requirement already satisfied: six in c:\\users\\nitij\\appdata\\roaming\\python\\python310\\site-packages (from dtale) (1.16.0)\n",
      "Requirement already satisfied: lz4 in c:\\users\\nitij\\anaconda3\\lib\\site-packages (from dtale) (3.1.3)\n",
      "Requirement already satisfied: future>=0.14.0 in c:\\users\\nitij\\anaconda3\\lib\\site-packages (from dtale) (0.18.3)\n",
      "Collecting kaleido\n",
      "  Downloading kaleido-0.2.1-py2.py3-none-win_amd64.whl (65.9 MB)\n",
      "     ---------------------------------------- 65.9/65.9 MB 5.0 MB/s eta 0:00:00\n",
      "Collecting flask-ngrok\n",
      "  Downloading flask_ngrok-0.0.25-py3-none-any.whl (3.1 kB)\n",
      "Collecting dash-colorscales\n",
      "  Downloading dash_colorscales-0.0.4.tar.gz (62 kB)\n",
      "     ---------------------------------------- 62.3/62.3 kB 3.3 MB/s eta 0:00:00\n",
      "  Preparing metadata (setup.py): started\n",
      "  Preparing metadata (setup.py): finished with status 'done'\n",
      "Requirement already satisfied: networkx in c:\\users\\nitij\\anaconda3\\lib\\site-packages (from dtale) (2.8.4)\n",
      "Requirement already satisfied: xarray in c:\\users\\nitij\\anaconda3\\lib\\site-packages (from dtale) (2022.11.0)\n",
      "Requirement already satisfied: Flask<2.3 in c:\\users\\nitij\\anaconda3\\lib\\site-packages (from dtale) (2.2.2)\n",
      "Requirement already satisfied: seaborn in c:\\users\\nitij\\anaconda3\\lib\\site-packages (from dtale) (0.12.2)\n",
      "Requirement already satisfied: statsmodels in c:\\users\\nitij\\anaconda3\\lib\\site-packages (from dtale) (0.13.5)\n",
      "Requirement already satisfied: openpyxl!=3.2.0b1 in c:\\users\\nitij\\anaconda3\\lib\\site-packages (from dtale) (3.0.10)\n",
      "Requirement already satisfied: typing-extensions>=4.1.1 in c:\\users\\nitij\\anaconda3\\lib\\site-packages (from dash->dtale) (4.4.0)\n",
      "Collecting dash-core-components==2.0.0\n",
      "  Downloading dash_core_components-2.0.0-py3-none-any.whl (3.8 kB)\n",
      "Collecting dash-html-components==2.0.0\n",
      "  Downloading dash_html_components-2.0.0-py3-none-any.whl (4.1 kB)\n",
      "Collecting ansi2html\n",
      "  Downloading ansi2html-1.8.0-py3-none-any.whl (16 kB)\n",
      "Collecting retrying\n",
      "  Downloading retrying-1.3.4-py3-none-any.whl (11 kB)\n",
      "Collecting dash-table==5.0.0\n",
      "  Downloading dash_table-5.0.0-py3-none-any.whl (3.9 kB)\n",
      "Requirement already satisfied: nest-asyncio in c:\\users\\nitij\\anaconda3\\lib\\site-packages (from dash->dtale) (1.5.6)\n",
      "Requirement already satisfied: Jinja2>=3.0 in c:\\users\\nitij\\anaconda3\\lib\\site-packages (from Flask<2.3->dtale) (3.1.2)\n",
      "Requirement already satisfied: click>=8.0 in c:\\users\\nitij\\anaconda3\\lib\\site-packages (from Flask<2.3->dtale) (8.0.4)\n",
      "Requirement already satisfied: tenacity>=6.2.0 in c:\\users\\nitij\\anaconda3\\lib\\site-packages (from plotly->dtale) (8.0.1)\n",
      "Requirement already satisfied: MarkupSafe>=2.1.1 in c:\\users\\nitij\\anaconda3\\lib\\site-packages (from werkzeug<2.3->dtale) (2.1.1)\n",
      "Requirement already satisfied: soupsieve>1.2 in c:\\users\\nitij\\anaconda3\\lib\\site-packages (from beautifulsoup4->dtale) (2.3.2.post1)\n",
      "Collecting brotli\n",
      "  Downloading Brotli-1.0.9-cp310-cp310-win_amd64.whl (383 kB)\n",
      "     -------------------------------------- 383.3/383.3 kB 7.9 MB/s eta 0:00:00\n",
      "Requirement already satisfied: fonttools>=4.22.0 in c:\\users\\nitij\\appdata\\roaming\\python\\python310\\site-packages (from matplotlib->dtale) (4.29.1)\n",
      "Requirement already satisfied: python-dateutil>=2.7 in c:\\users\\nitij\\appdata\\roaming\\python\\python310\\site-packages (from matplotlib->dtale) (2.8.2)\n",
      "Requirement already satisfied: kiwisolver>=1.0.1 in c:\\users\\nitij\\appdata\\roaming\\python\\python310\\site-packages (from matplotlib->dtale) (1.3.2)\n",
      "Requirement already satisfied: pillow>=6.2.0 in c:\\users\\nitij\\appdata\\roaming\\python\\python310\\site-packages (from matplotlib->dtale) (9.0.1)\n",
      "Requirement already satisfied: pyparsing>=2.2.1 in c:\\users\\nitij\\appdata\\roaming\\python\\python310\\site-packages (from matplotlib->dtale) (3.0.7)\n",
      "Requirement already satisfied: packaging>=20.0 in c:\\users\\nitij\\appdata\\roaming\\python\\python310\\site-packages (from matplotlib->dtale) (21.3)\n",
      "Requirement already satisfied: pytz>=2020.1 in c:\\users\\nitij\\anaconda3\\lib\\site-packages (from pandas->dtale) (2022.7)\n",
      "Requirement already satisfied: charset-normalizer<3,>=2 in c:\\users\\nitij\\anaconda3\\lib\\site-packages (from requests->dtale) (2.0.4)\n",
      "Requirement already satisfied: idna<4,>=2.5 in c:\\users\\nitij\\anaconda3\\lib\\site-packages (from requests->dtale) (3.4)\n",
      "Requirement already satisfied: urllib3<1.27,>=1.21.1 in c:\\users\\nitij\\anaconda3\\lib\\site-packages (from requests->dtale) (1.26.14)\n",
      "Requirement already satisfied: threadpoolctl>=2.0.0 in c:\\users\\nitij\\anaconda3\\lib\\site-packages (from scikit-learn->dtale) (2.2.0)\n",
      "Requirement already satisfied: joblib>=1.1.1 in c:\\users\\nitij\\anaconda3\\lib\\site-packages (from scikit-learn->dtale) (1.1.1)\n",
      "Requirement already satisfied: patsy>=0.5.2 in c:\\users\\nitij\\anaconda3\\lib\\site-packages (from statsmodels->dtale) (0.5.3)\n",
      "Requirement already satisfied: colorama in c:\\users\\nitij\\anaconda3\\lib\\site-packages (from click>=8.0->Flask<2.3->dtale) (0.4.6)\n",
      "Building wheels for collected packages: dash-colorscales, dash-daq\n",
      "  Building wheel for dash-colorscales (setup.py): started\n",
      "  Building wheel for dash-colorscales (setup.py): finished with status 'done'\n",
      "  Created wheel for dash-colorscales: filename=dash_colorscales-0.0.4-py3-none-any.whl size=62573 sha256=b47187ecda3f935364775fde40eb096cb23513c120afbcb88b6d82ccf49419bb\n",
      "  Stored in directory: c:\\users\\nitij\\appdata\\local\\pip\\cache\\wheels\\5c\\c9\\41\\5db0eced077f33779053be8e6e7966fe23e89083fcd723730d\n",
      "  Building wheel for dash-daq (setup.py): started\n",
      "  Building wheel for dash-daq (setup.py): finished with status 'done'\n",
      "  Created wheel for dash-daq: filename=dash_daq-0.5.0-py3-none-any.whl size=669721 sha256=7ba50e017b3985ec04643d4826d4233a74cb6ab282a8ce28ed5c2b451a51316c\n",
      "  Stored in directory: c:\\users\\nitij\\appdata\\local\\pip\\cache\\wheels\\95\\ae\\47\\e96608d9aeefe5d2a8c7e1c0f547e9ee49f1eedf13d8bf3f62\n",
      "Successfully built dash-colorscales dash-daq\n",
      "Installing collected packages: strsimpy, squarify, kaleido, dash-table, dash-html-components, dash-core-components, dash-colorscales, brotli, xlrd, retrying, ansi2html, flask-ngrok, Flask-Compress, dash, missingno, dash-daq, dash-bootstrap-components, dtale\n",
      "Successfully installed Flask-Compress-1.13 ansi2html-1.8.0 brotli-1.0.9 dash-2.11.1 dash-bootstrap-components-1.3.1 dash-colorscales-0.0.4 dash-core-components-2.0.0 dash-daq-0.5.0 dash-html-components-2.0.0 dash-table-5.0.0 dtale-3.3.0 flask-ngrok-0.0.25 kaleido-0.2.1 missingno-0.5.2 retrying-1.3.4 squarify-0.4.3 strsimpy-0.2.1 xlrd-2.0.1\n"
     ]
    }
   ],
   "source": [
    "!pip install dtale"
   ]
  },
  {
   "cell_type": "code",
   "execution_count": 11,
   "id": "c8319841",
   "metadata": {},
   "outputs": [],
   "source": [
    "import pandas as pd"
   ]
  },
  {
   "cell_type": "code",
   "execution_count": 12,
   "id": "c2a23730",
   "metadata": {},
   "outputs": [],
   "source": [
    "df = pd.read_csv(\"Rohit-Sharma-All-International-Cricket-Centuries.csv\")"
   ]
  },
  {
   "cell_type": "code",
   "execution_count": 13,
   "id": "9e214563",
   "metadata": {},
   "outputs": [
    {
     "data": {
      "text/html": [
       "<div>\n",
       "<style scoped>\n",
       "    .dataframe tbody tr th:only-of-type {\n",
       "        vertical-align: middle;\n",
       "    }\n",
       "\n",
       "    .dataframe tbody tr th {\n",
       "        vertical-align: top;\n",
       "    }\n",
       "\n",
       "    .dataframe thead th {\n",
       "        text-align: right;\n",
       "    }\n",
       "</style>\n",
       "<table border=\"1\" class=\"dataframe\">\n",
       "  <thead>\n",
       "    <tr style=\"text-align: right;\">\n",
       "      <th></th>\n",
       "      <th>No.</th>\n",
       "      <th>Score</th>\n",
       "      <th>Against</th>\n",
       "      <th>Position</th>\n",
       "      <th>Innings</th>\n",
       "      <th>Venue</th>\n",
       "      <th>Ground</th>\n",
       "      <th>Date</th>\n",
       "      <th>Result</th>\n",
       "    </tr>\n",
       "  </thead>\n",
       "  <tbody>\n",
       "    <tr>\n",
       "      <th>0</th>\n",
       "      <td>1</td>\n",
       "      <td>114</td>\n",
       "      <td>Zimbabwe</td>\n",
       "      <td>4</td>\n",
       "      <td>1</td>\n",
       "      <td>Queens Sports Club, Bulawayo</td>\n",
       "      <td>Away</td>\n",
       "      <td>28-May-10</td>\n",
       "      <td>Lost</td>\n",
       "    </tr>\n",
       "    <tr>\n",
       "      <th>1</th>\n",
       "      <td>2</td>\n",
       "      <td>101*</td>\n",
       "      <td>Sri Lanka</td>\n",
       "      <td>4</td>\n",
       "      <td>2</td>\n",
       "      <td>Queens Sports Club, Bulawayo</td>\n",
       "      <td>Neutral</td>\n",
       "      <td>30-May-10</td>\n",
       "      <td>Won</td>\n",
       "    </tr>\n",
       "    <tr>\n",
       "      <th>2</th>\n",
       "      <td>3</td>\n",
       "      <td>141*</td>\n",
       "      <td>Australia</td>\n",
       "      <td>1</td>\n",
       "      <td>2</td>\n",
       "      <td>Sawai Mansingh Stadium, Jaipur</td>\n",
       "      <td>Home</td>\n",
       "      <td>16-Oct-13</td>\n",
       "      <td>Won</td>\n",
       "    </tr>\n",
       "    <tr>\n",
       "      <th>3</th>\n",
       "      <td>4</td>\n",
       "      <td>209</td>\n",
       "      <td>Australia</td>\n",
       "      <td>1</td>\n",
       "      <td>1</td>\n",
       "      <td>M. Chinnaswamy Stadium, Bangalore</td>\n",
       "      <td>Home</td>\n",
       "      <td>02-Nov-13</td>\n",
       "      <td>Won</td>\n",
       "    </tr>\n",
       "    <tr>\n",
       "      <th>4</th>\n",
       "      <td>5</td>\n",
       "      <td>177</td>\n",
       "      <td>West Indies</td>\n",
       "      <td>6</td>\n",
       "      <td>2</td>\n",
       "      <td>Eden Gardens, Kolkata</td>\n",
       "      <td>Home</td>\n",
       "      <td>06-Nov-13</td>\n",
       "      <td>Won</td>\n",
       "    </tr>\n",
       "  </tbody>\n",
       "</table>\n",
       "</div>"
      ],
      "text/plain": [
       "   No.  Score       Against  Position  Innings  \\\n",
       "0    1    114      Zimbabwe         4        1   \n",
       "1    2  101*      Sri Lanka         4        2   \n",
       "2    3  141*      Australia         1        2   \n",
       "3    4    209     Australia         1        1   \n",
       "4    5    177   West Indies         6        2   \n",
       "\n",
       "                               Venue   Ground       Date Result  \n",
       "0       Queens Sports Club, Bulawayo     Away  28-May-10   Lost  \n",
       "1       Queens Sports Club, Bulawayo  Neutral  30-May-10    Won  \n",
       "2     Sawai Mansingh Stadium, Jaipur     Home  16-Oct-13    Won  \n",
       "3  M. Chinnaswamy Stadium, Bangalore     Home  02-Nov-13    Won  \n",
       "4              Eden Gardens, Kolkata     Home  06-Nov-13    Won  "
      ]
     },
     "execution_count": 13,
     "metadata": {},
     "output_type": "execute_result"
    }
   ],
   "source": [
    "df.head()"
   ]
  },
  {
   "cell_type": "code",
   "execution_count": 14,
   "id": "fda51a18",
   "metadata": {},
   "outputs": [
    {
     "data": {
      "text/plain": [
       "(43, 9)"
      ]
     },
     "execution_count": 14,
     "metadata": {},
     "output_type": "execute_result"
    }
   ],
   "source": [
    "df.shape"
   ]
  },
  {
   "cell_type": "code",
   "execution_count": 16,
   "id": "9bd49c6c",
   "metadata": {},
   "outputs": [
    {
     "name": "stdout",
     "output_type": "stream",
     "text": [
      "<class 'pandas.core.frame.DataFrame'>\n",
      "RangeIndex: 43 entries, 0 to 42\n",
      "Data columns (total 9 columns):\n",
      " #   Column    Non-Null Count  Dtype \n",
      "---  ------    --------------  ----- \n",
      " 0   No.       43 non-null     int64 \n",
      " 1   Score     43 non-null     object\n",
      " 2   Against   43 non-null     object\n",
      " 3   Position  43 non-null     int64 \n",
      " 4   Innings   43 non-null     int64 \n",
      " 5   Venue     43 non-null     object\n",
      " 6   Ground    43 non-null     object\n",
      " 7   Date      43 non-null     object\n",
      " 8   Result    43 non-null     object\n",
      "dtypes: int64(3), object(6)\n",
      "memory usage: 3.1+ KB\n"
     ]
    }
   ],
   "source": [
    "df.info()"
   ]
  },
  {
   "cell_type": "code",
   "execution_count": 43,
   "id": "361f7b59",
   "metadata": {},
   "outputs": [
    {
     "name": "stderr",
     "output_type": "stream",
     "text": [
      "C:\\Users\\Nitij\\AppData\\Local\\Temp\\ipykernel_2792\\3827732414.py:1: FutureWarning:\n",
      "\n",
      "The default value of regex will change from True to False in a future version. In addition, single character regular expressions will *not* be treated as literal strings when regex=True.\n",
      "\n"
     ]
    }
   ],
   "source": [
    "df['Score']=df['Score'].str.replace('*','')\n",
    "\n"
   ]
  },
  {
   "cell_type": "code",
   "execution_count": 49,
   "id": "96001397",
   "metadata": {},
   "outputs": [],
   "source": [
    "df['Score']=df['Score'].astype(str).astype(int)     "
   ]
  },
  {
   "cell_type": "code",
   "execution_count": 50,
   "id": "6b34ed31",
   "metadata": {},
   "outputs": [
    {
     "data": {
      "text/plain": [
       "0     114\n",
       "1     101\n",
       "2     141\n",
       "3     209\n",
       "4     177\n",
       "5     111\n",
       "6     264\n",
       "7     138\n",
       "8     137\n",
       "9     106\n",
       "10    150\n",
       "11    171\n",
       "12    124\n",
       "13    123\n",
       "14    124\n",
       "15    104\n",
       "16    125\n",
       "17    147\n",
       "18    102\n",
       "19    208\n",
       "20    118\n",
       "21    115\n",
       "22    100\n",
       "23    137\n",
       "24    111\n",
       "25    152\n",
       "26    162\n",
       "27    111\n",
       "28    133\n",
       "29    122\n",
       "30    140\n",
       "31    102\n",
       "32    104\n",
       "33    103\n",
       "34    176\n",
       "35    127\n",
       "36    212\n",
       "37    159\n",
       "38    119\n",
       "39    161\n",
       "40    127\n",
       "41    101\n",
       "42    120\n",
       "Name: Score, dtype: int32"
      ]
     },
     "execution_count": 50,
     "metadata": {},
     "output_type": "execute_result"
    }
   ],
   "source": [
    "df['Score']"
   ]
  },
  {
   "cell_type": "code",
   "execution_count": 51,
   "id": "5c89049f",
   "metadata": {
    "scrolled": false
   },
   "outputs": [
    {
     "data": {
      "text/html": [
       "\n",
       "        <iframe\n",
       "            width=\"100%\"\n",
       "            height=\"475\"\n",
       "            src=\"http://DESKTOP-82N8OM3:40000/dtale/iframe/6\"\n",
       "            frameborder=\"0\"\n",
       "            allowfullscreen\n",
       "            \n",
       "        ></iframe>\n",
       "        "
      ],
      "text/plain": [
       "<IPython.lib.display.IFrame at 0x2920db18c70>"
      ]
     },
     "metadata": {},
     "output_type": "display_data"
    },
    {
     "data": {
      "text/plain": []
     },
     "execution_count": 51,
     "metadata": {},
     "output_type": "execute_result"
    },
    {
     "name": "stderr",
     "output_type": "stream",
     "text": [
      "C:\\Users\\Nitij\\anaconda3\\lib\\site-packages\\dtale\\charts\\utils.py:644: FutureWarning:\n",
      "\n",
      "The default value of numeric_only in DataFrameGroupBy.mean is deprecated. In a future version, numeric_only will default to False. Either specify numeric_only or select only columns which should be valid for the function.\n",
      "\n",
      "C:\\Users\\Nitij\\anaconda3\\lib\\site-packages\\dtale\\charts\\utils.py:620: FutureWarning:\n",
      "\n",
      "Not prepending group keys to the result index of transform-like apply. In the future, the group keys will be included in the index, regardless of whether the applied function returns a like-indexed object.\n",
      "To preserve the previous behavior, use\n",
      "\n",
      "\t>>> .groupby(..., group_keys=False)\n",
      "\n",
      "To adopt the future behavior and silence this warning, use \n",
      "\n",
      "\t>>> .groupby(..., group_keys=True)\n",
      "\n",
      "C:\\Users\\Nitij\\anaconda3\\lib\\site-packages\\dtale\\charts\\utils.py:620: FutureWarning:\n",
      "\n",
      "Not prepending group keys to the result index of transform-like apply. In the future, the group keys will be included in the index, regardless of whether the applied function returns a like-indexed object.\n",
      "To preserve the previous behavior, use\n",
      "\n",
      "\t>>> .groupby(..., group_keys=False)\n",
      "\n",
      "To adopt the future behavior and silence this warning, use \n",
      "\n",
      "\t>>> .groupby(..., group_keys=True)\n",
      "\n",
      "C:\\Users\\Nitij\\anaconda3\\lib\\site-packages\\dtale\\charts\\utils.py:620: FutureWarning:\n",
      "\n",
      "Not prepending group keys to the result index of transform-like apply. In the future, the group keys will be included in the index, regardless of whether the applied function returns a like-indexed object.\n",
      "To preserve the previous behavior, use\n",
      "\n",
      "\t>>> .groupby(..., group_keys=False)\n",
      "\n",
      "To adopt the future behavior and silence this warning, use \n",
      "\n",
      "\t>>> .groupby(..., group_keys=True)\n",
      "\n",
      "C:\\Users\\Nitij\\anaconda3\\lib\\site-packages\\dtale\\charts\\utils.py:620: FutureWarning:\n",
      "\n",
      "Not prepending group keys to the result index of transform-like apply. In the future, the group keys will be included in the index, regardless of whether the applied function returns a like-indexed object.\n",
      "To preserve the previous behavior, use\n",
      "\n",
      "\t>>> .groupby(..., group_keys=False)\n",
      "\n",
      "To adopt the future behavior and silence this warning, use \n",
      "\n",
      "\t>>> .groupby(..., group_keys=True)\n",
      "\n",
      "C:\\Users\\Nitij\\anaconda3\\lib\\site-packages\\dtale\\charts\\utils.py:620: FutureWarning:\n",
      "\n",
      "Not prepending group keys to the result index of transform-like apply. In the future, the group keys will be included in the index, regardless of whether the applied function returns a like-indexed object.\n",
      "To preserve the previous behavior, use\n",
      "\n",
      "\t>>> .groupby(..., group_keys=False)\n",
      "\n",
      "To adopt the future behavior and silence this warning, use \n",
      "\n",
      "\t>>> .groupby(..., group_keys=True)\n",
      "\n"
     ]
    }
   ],
   "source": [
    "import dtale\n",
    "dtale.show(df)"
   ]
  },
  {
   "cell_type": "markdown",
   "id": "fd4cbed3",
   "metadata": {},
   "source": [
    "# OBSERVATIONS"
   ]
  },
  {
   "cell_type": "markdown",
   "id": "2b3636e4",
   "metadata": {},
   "source": [
    "1) Highest run is 264 against Srilanka.\n",
    "\n",
    "2) He scored 4 time more than 200 runs, all double centuries came under home ground.\n",
    "\n",
    "3) Out of 43 innings he usually open the innings but few time he had batted at 4th position and 6th position as well.\n",
    "\n",
    "4) He score on an average 136.9 runs per innings.\n",
    "\n",
    "5) He like to score hundred against Austrailia and Srilanka.\n",
    "\n",
    "6) He scored centuries more in India i.e Home ground compared to against and neutral but Edgbaston Cricket Ground, Birmingham seems to luckier and favourite for him as he had cored 3 100+ score there.\n",
    "\n",
    "7) Out 0f 43 centuries innings he lost only 8 times , India won 34 times whenever Rohit Sharma scores a century."
   ]
  },
  {
   "cell_type": "code",
   "execution_count": null,
   "id": "14408682",
   "metadata": {},
   "outputs": [],
   "source": []
  },
  {
   "cell_type": "code",
   "execution_count": null,
   "id": "b438a249",
   "metadata": {},
   "outputs": [],
   "source": [
    "\n"
   ]
  },
  {
   "cell_type": "code",
   "execution_count": null,
   "id": "28cf2245",
   "metadata": {},
   "outputs": [],
   "source": []
  }
 ],
 "metadata": {
  "kernelspec": {
   "display_name": "Python 3 (ipykernel)",
   "language": "python",
   "name": "python3"
  },
  "language_info": {
   "codemirror_mode": {
    "name": "ipython",
    "version": 3
   },
   "file_extension": ".py",
   "mimetype": "text/x-python",
   "name": "python",
   "nbconvert_exporter": "python",
   "pygments_lexer": "ipython3",
   "version": "3.10.9"
  }
 },
 "nbformat": 4,
 "nbformat_minor": 5
}
